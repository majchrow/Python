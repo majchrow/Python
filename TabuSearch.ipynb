{
 "cells": [
  {
   "cell_type": "code",
   "execution_count": 1,
   "metadata": {},
   "outputs": [],
   "source": [
    "import numpy as np\n",
    "from collections import deque"
   ]
  },
  {
   "cell_type": "code",
   "execution_count": 2,
   "metadata": {},
   "outputs": [],
   "source": [
    "def P(Profit,X):\n",
    "    return np.sum(Profit*X)"
   ]
  },
  {
   "cell_type": "code",
   "execution_count": 3,
   "metadata": {},
   "outputs": [],
   "source": [
    "def sgn(number):\n",
    "    return 1 if number == 0 else -1"
   ]
  },
  {
   "cell_type": "code",
   "execution_count": 4,
   "metadata": {},
   "outputs": [],
   "source": [
    "preWeights = np.array([70, 73, 77, 80, 82, 87, 90, 94, 98, 106, 110, 113, 115, 118, 120])\n",
    "preProfits = np.array([135,139,149, 150, 156, 163, 173, 184, 192, 201, 210, 214, 221, 229, 240])\n",
    "def knapsackTabuSearch(L, weights = preWeights,profits = preProfits,capasity=750,\n",
    "                               c_max = 5000):\n",
    "    assert(capasity >= 0)\n",
    "    length = len(weights)\n",
    "    X_best = np.array([])\n",
    "    tabuList = deque([])\n",
    "    while True:\n",
    "        X_best = np.random.randint(0,2, size=length)\n",
    "        if(P(profits,X_best) < capasity):\n",
    "            break\n",
    "    curW = np.sum(X_best*weights)\n",
    "    X = []\n",
    "    X[:] = X_best\n",
    "    for _ in range(c_max):  \n",
    "        N = []\n",
    "        N[:] = tabuList\n",
    "        P_best, i_best = -2.1,0\n",
    "        for i in range(length):\n",
    "            if i not in N:\n",
    "                if X[i] == 0 and curW + weights[i] > capasity:\n",
    "                    N.append(i)\n",
    "                elif (profits[i]/weights[i]) * sgn(X[i]) > P_best:\n",
    "                    P_best, i_best = (profits[i]/weights[i]) * sgn(X[i]), i\n",
    "        if len(N) == length:\n",
    "            break\n",
    "        if(len(tabuList) == L):\n",
    "            tabuList.popleft()\n",
    "        tabuList.append(i_best)\n",
    "        if X[i_best] == 0:\n",
    "            curW += weights[i_best]\n",
    "        else:\n",
    "            curW -= weights[i_best]\n",
    "        X[i_best] = 1 - X[i_best]\n",
    "        if P(profits,X) > P(profits,X_best):\n",
    "            X_best[:] = X\n",
    "    return X_best"
   ]
  },
  {
   "cell_type": "code",
   "execution_count": 5,
   "metadata": {},
   "outputs": [],
   "source": [
    "kps  = lambda  x : P(preProfits,knapsackTabuSearch(x))\n",
    "results = [(x,kps(x)) for x in range(2,13)]"
   ]
  },
  {
   "cell_type": "code",
   "execution_count": 6,
   "metadata": {},
   "outputs": [
    {
     "data": {
      "text/html": [
       "<div>\n",
       "<style scoped>\n",
       "    .dataframe tbody tr th:only-of-type {\n",
       "        vertical-align: middle;\n",
       "    }\n",
       "\n",
       "    .dataframe tbody tr th {\n",
       "        vertical-align: top;\n",
       "    }\n",
       "\n",
       "    .dataframe thead th {\n",
       "        text-align: right;\n",
       "    }\n",
       "</style>\n",
       "<table border=\"1\" class=\"dataframe\">\n",
       "  <thead>\n",
       "    <tr style=\"text-align: right;\">\n",
       "      <th></th>\n",
       "      <th>L</th>\n",
       "      <th>Profit</th>\n",
       "    </tr>\n",
       "  </thead>\n",
       "  <tbody>\n",
       "    <tr>\n",
       "      <th>0</th>\n",
       "      <td>2</td>\n",
       "      <td>1458</td>\n",
       "    </tr>\n",
       "    <tr>\n",
       "      <th>1</th>\n",
       "      <td>3</td>\n",
       "      <td>1458</td>\n",
       "    </tr>\n",
       "    <tr>\n",
       "      <th>2</th>\n",
       "      <td>4</td>\n",
       "      <td>1456</td>\n",
       "    </tr>\n",
       "    <tr>\n",
       "      <th>3</th>\n",
       "      <td>5</td>\n",
       "      <td>1458</td>\n",
       "    </tr>\n",
       "    <tr>\n",
       "      <th>4</th>\n",
       "      <td>6</td>\n",
       "      <td>1452</td>\n",
       "    </tr>\n",
       "    <tr>\n",
       "      <th>5</th>\n",
       "      <td>7</td>\n",
       "      <td>1458</td>\n",
       "    </tr>\n",
       "    <tr>\n",
       "      <th>6</th>\n",
       "      <td>8</td>\n",
       "      <td>1456</td>\n",
       "    </tr>\n",
       "    <tr>\n",
       "      <th>7</th>\n",
       "      <td>9</td>\n",
       "      <td>1458</td>\n",
       "    </tr>\n",
       "    <tr>\n",
       "      <th>8</th>\n",
       "      <td>10</td>\n",
       "      <td>1458</td>\n",
       "    </tr>\n",
       "    <tr>\n",
       "      <th>9</th>\n",
       "      <td>11</td>\n",
       "      <td>1458</td>\n",
       "    </tr>\n",
       "    <tr>\n",
       "      <th>10</th>\n",
       "      <td>12</td>\n",
       "      <td>1452</td>\n",
       "    </tr>\n",
       "  </tbody>\n",
       "</table>\n",
       "</div>"
      ],
      "text/plain": [
       "     L  Profit\n",
       "0    2    1458\n",
       "1    3    1458\n",
       "2    4    1456\n",
       "3    5    1458\n",
       "4    6    1452\n",
       "5    7    1458\n",
       "6    8    1456\n",
       "7    9    1458\n",
       "8   10    1458\n",
       "9   11    1458\n",
       "10  12    1452"
      ]
     },
     "execution_count": 6,
     "metadata": {},
     "output_type": "execute_result"
    }
   ],
   "source": [
    "import pandas as pd\n",
    "pd.DataFrame(data = results,columns = ['L', 'Profit'])"
   ]
  }
 ],
 "metadata": {
  "kernelspec": {
   "display_name": "Python 3",
   "language": "python",
   "name": "python3"
  },
  "language_info": {
   "codemirror_mode": {
    "name": "ipython",
    "version": 3
   },
   "file_extension": ".py",
   "mimetype": "text/x-python",
   "name": "python",
   "nbconvert_exporter": "python",
   "pygments_lexer": "ipython3",
   "version": "3.6.6"
  }
 },
 "nbformat": 4,
 "nbformat_minor": 2
}
