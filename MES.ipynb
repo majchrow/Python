{
 "cells": [
  {
   "cell_type": "markdown",
   "metadata": {},
   "source": [
    "$\\begin{cases} \n",
    "(-k(x)u')' = f(x), \\text{ dla } x \\in (0,2) \\\\\n",
    "u'(0) = g_0 \\\\\n",
    "u(2) = u_1 \\\\\n",
    "\\end{cases}$ \n",
    "dla\n",
    "$k(x) = \\begin{cases} 1 &\\text{dla } x \\in [0,1) \\\\ 2 &\\text{dla } x \\in [1,2] \\end{cases}$ "
   ]
  },
  {
   "cell_type": "code",
   "execution_count": 14,
   "metadata": {},
   "outputs": [],
   "source": [
    "#necessery imports\n",
    "#numpy for numerical computing\n",
    "#matplotlib for visialisations\n",
    "import numpy as np\n",
    "import matplotlib.pyplot as plt"
   ]
  },
  {
   "cell_type": "markdown",
   "metadata": {},
   "source": [
    "Funkcja wyznaczająca rozwiązanie zadanego równania przy pomocy Metody Elementów Skończonych."
   ]
  },
  {
   "cell_type": "code",
   "execution_count": 2,
   "metadata": {},
   "outputs": [],
   "source": [
    "#Klasa rozwiązująca dane równanie przy pomocy Metody Elementów Skończonych.\n",
    "#Autor Dawid Majchrowski IEIT\n",
    "#Data 19.01.2019\n",
    "class Mes:\n",
    "    def __init__(self, f, N, g0, u1):\n",
    "        self.f = f # f(x)\n",
    "        self.N = N # 2N punktów siatki (Musi być parzysta ilośc, żeby wyliczyć całki analitycznie) \n",
    "        self.g0 = g0 # parametry g0 problemu brzegowego\n",
    "        self.u1 = u1 # parametry u1 problemu brzegowego\n",
    "        self.result = None \n",
    "    def mes(self,printA = False, printB = False, printResult = False):\n",
    "        # Przedział [0,2] dzielimy na 2N równych części => długośc przedziału = 2/2N = 1/N\n",
    "        h = 1 / N # Dlugość przedziału\n",
    "        A = np.zeros((2*self.N, 2*self.N)) # Macierz układu rozmiaru (2N) x (2N) wypełniamy 0\n",
    "\n",
    "\n",
    "        #Tworzymy macierz układu A\n",
    "        A[0, 0] = 1 / h\n",
    "\n",
    "        for i in range(1,self.N+1): # wierzsze (0-N-1)\n",
    "            A[i,i] = 2/h\n",
    "            A[i,i-1] = -1/h\n",
    "            A[i-1,i] = -1/h \n",
    "\n",
    "        A[N,N] += 1/h # wiersz N\n",
    "\n",
    "        for i in range(self.N+1,2*self.N): #wiersze (N+1,2N-1)\n",
    "            A[i,i] = 4/h\n",
    "            A[i,i-1] = -2/h\n",
    "            A[i-1,i] = -2/h\n",
    "\n",
    "        if(printA):\n",
    "            print(A)\n",
    "\n",
    "        #Tworzymy wektor B układu\n",
    "        B = np.array([(4/3)*h*f(h*i) for i in range(2*self.N)]) # Wektor B\n",
    "\n",
    "        # warunki brzegowe\n",
    "        B[0] -= g0  \n",
    "        B[2*self.N-1] = B[2*self.N-1] + 2*(self.u1*(1/h)) \n",
    "\n",
    "        if(printB):\n",
    "            print(B)\n",
    "\n",
    "\n",
    "        C = np.linalg.solve(A,B) # Rozwiazanie ukladu AC = B (C-> Wektor 2N wymiarowy)\n",
    "\n",
    "        self.result = np.zeros(2*self.N+1) # Wektor 2N+1 wymiarowy reprezentujacy wynik \n",
    "\n",
    "        self.result[:2*self.N] = C[:] # Przepisujemy wartości C do wektora wynikowego\n",
    "\n",
    "        self.result[2*self.N] = u1\n",
    "\n",
    "        if(printResult):\n",
    "            print(result)    \n",
    "\n",
    "        return self.result # zwracamy resultat\n",
    "\n",
    "    def plotMes(self):\n",
    "        if(self.result is None):\n",
    "            print('Use mes() method first')\n",
    "        else:\n",
    "            X = np.linspace(0,2,num=2*self.N+1)\n",
    "            plt.plot(X,self.result)\n",
    "            plt.show()"
   ]
  },
  {
   "cell_type": "code",
   "execution_count": 15,
   "metadata": {
    "scrolled": false
   },
   "outputs": [
    {
     "data": {
      "image/png": "[encoded data removed]",
      "text/plain": [
       "<Figure size 432x288 with 1 Axes>"
      ]
     },
     "metadata": {
      "needs_background": "light"
     },
     "output_type": "display_data"
    }
   ],
   "source": [
    "N = 1000\n",
    "g0 = 0\n",
    "u1 = 0\n",
    "f = lambda x: x*x*x + 10\n",
    "mesClass = Mes(f,N,g0,u1)\n",
    "mesClass.mes()\n",
    "mesClass.plotMes()"
   ]
  }
 ],
 "metadata": {
  "kernelspec": {
   "display_name": "Python 3",
   "language": "python",
   "name": "python3"
  },
  "language_info": {
   "codemirror_mode": {
    "name": "ipython",
    "version": 3
   },
   "file_extension": ".py",
   "mimetype": "text/x-python",
   "name": "python",
   "nbconvert_exporter": "python",
   "pygments_lexer": "ipython3",
   "version": "3.6.7"
  }
 },
 "nbformat": 4,
 "nbformat_minor": 2
}
