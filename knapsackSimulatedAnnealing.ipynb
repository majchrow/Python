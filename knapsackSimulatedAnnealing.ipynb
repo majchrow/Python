{
 "cells": [
  {
   "cell_type": "code",
   "execution_count": 1,
   "metadata": {},
   "outputs": [],
   "source": [
    "import numpy as np"
   ]
  },
  {
   "cell_type": "code",
   "execution_count": 2,
   "metadata": {},
   "outputs": [],
   "source": [
    "def P(Profit,X):\n",
    "    return np.sum(Profit*X)"
   ]
  },
  {
   "cell_type": "code",
   "execution_count": 3,
   "metadata": {},
   "outputs": [],
   "source": [
    "def passTest(p, T):\n",
    "    return np.random.uniform() < np.exp(-p/T)"
   ]
  },
  {
   "cell_type": "code",
   "execution_count": 4,
   "metadata": {},
   "outputs": [],
   "source": [
    "preWeights = np.array([70, 73, 77, 80, 82, 87, 90, 94, 98, 106, 110, 113, 115, 118, 120])\n",
    "preProfits = np.array([135,139,149, 150, 156, 163, 173, 184, 192, 201, 210, 214, 221, 229, 240])\n",
    "def knapsackSimulatedAnnealing(weights = preWeights,profits = preProfits,capasity=750,\n",
    "                               c_max = 5000,T = 1000,alpha = 0.9995):\n",
    "    length = len(weights)\n",
    "    result = np.zeros(length)\n",
    "    curC = 0\n",
    "    bestResult = result\n",
    "    for _ in range(c_max): \n",
    "        i = np.random.randint(0, length)\n",
    "        Y = []\n",
    "        Y[:] = result\n",
    "        Y[i] = 1 - Y[i]\n",
    "        fl = True\n",
    "        if Y[i] == 1 and curC + weights[i] > capasity: \n",
    "            fl = False\n",
    "        if fl:\n",
    "            if(Y[i] == 1):\n",
    "                result = Y\n",
    "                curC += weights[i]\n",
    "                if P(profits,result) > P(profits,bestResult):\n",
    "                    bestResult = result\n",
    "            elif(passTest(profits[i],T)):\n",
    "                result = Y\n",
    "                curC -= weights[i]\n",
    "        T = alpha * T\n",
    "    return bestResult"
   ]
  },
  {
   "cell_type": "code",
   "execution_count": 5,
   "metadata": {},
   "outputs": [],
   "source": [
    "smallA = [0.999,0.9995,0.9999]\n",
    "smallC = [1000,5000,20000]\n",
    "kps  = lambda  x,y : np.sum(knapsackSimulatedAnnealing(c_max = y, alpha = x)*preProfits)\n",
    "results = [ (x,y,kps(x,y)) for x in smallA for y in smallC]"
   ]
  },
  {
   "cell_type": "code",
   "execution_count": 6,
   "metadata": {},
   "outputs": [
    {
     "data": {
      "text/html": [
       "<div>\n",
       "<style scoped>\n",
       "    .dataframe tbody tr th:only-of-type {\n",
       "        vertical-align: middle;\n",
       "    }\n",
       "\n",
       "    .dataframe tbody tr th {\n",
       "        vertical-align: top;\n",
       "    }\n",
       "\n",
       "    .dataframe thead th {\n",
       "        text-align: right;\n",
       "    }\n",
       "</style>\n",
       "<table border=\"1\" class=\"dataframe\">\n",
       "  <thead>\n",
       "    <tr style=\"text-align: right;\">\n",
       "      <th></th>\n",
       "      <th>Alpha</th>\n",
       "      <th>C_MAX</th>\n",
       "      <th>Profit</th>\n",
       "    </tr>\n",
       "  </thead>\n",
       "  <tbody>\n",
       "    <tr>\n",
       "      <th>0</th>\n",
       "      <td>0.9990</td>\n",
       "      <td>1000</td>\n",
       "      <td>1445.0</td>\n",
       "    </tr>\n",
       "    <tr>\n",
       "      <th>1</th>\n",
       "      <td>0.9990</td>\n",
       "      <td>5000</td>\n",
       "      <td>1447.0</td>\n",
       "    </tr>\n",
       "    <tr>\n",
       "      <th>2</th>\n",
       "      <td>0.9990</td>\n",
       "      <td>20000</td>\n",
       "      <td>1446.0</td>\n",
       "    </tr>\n",
       "    <tr>\n",
       "      <th>3</th>\n",
       "      <td>0.9995</td>\n",
       "      <td>1000</td>\n",
       "      <td>1449.0</td>\n",
       "    </tr>\n",
       "    <tr>\n",
       "      <th>4</th>\n",
       "      <td>0.9995</td>\n",
       "      <td>5000</td>\n",
       "      <td>1458.0</td>\n",
       "    </tr>\n",
       "    <tr>\n",
       "      <th>5</th>\n",
       "      <td>0.9995</td>\n",
       "      <td>20000</td>\n",
       "      <td>1450.0</td>\n",
       "    </tr>\n",
       "    <tr>\n",
       "      <th>6</th>\n",
       "      <td>0.9999</td>\n",
       "      <td>1000</td>\n",
       "      <td>1448.0</td>\n",
       "    </tr>\n",
       "    <tr>\n",
       "      <th>7</th>\n",
       "      <td>0.9999</td>\n",
       "      <td>5000</td>\n",
       "      <td>1453.0</td>\n",
       "    </tr>\n",
       "    <tr>\n",
       "      <th>8</th>\n",
       "      <td>0.9999</td>\n",
       "      <td>20000</td>\n",
       "      <td>1458.0</td>\n",
       "    </tr>\n",
       "  </tbody>\n",
       "</table>\n",
       "</div>"
      ],
      "text/plain": [
       "    Alpha  C_MAX  Profit\n",
       "0  0.9990   1000  1445.0\n",
       "1  0.9990   5000  1447.0\n",
       "2  0.9990  20000  1446.0\n",
       "3  0.9995   1000  1449.0\n",
       "4  0.9995   5000  1458.0\n",
       "5  0.9995  20000  1450.0\n",
       "6  0.9999   1000  1448.0\n",
       "7  0.9999   5000  1453.0\n",
       "8  0.9999  20000  1458.0"
      ]
     },
     "execution_count": 6,
     "metadata": {},
     "output_type": "execute_result"
    }
   ],
   "source": [
    "import pandas as pd\n",
    "pd.DataFrame(data = results,columns = ['Alpha', 'C_MAX', 'Profit'])"
   ]
  }
 ],
 "metadata": {
  "kernelspec": {
   "display_name": "Python 3",
   "language": "python",
   "name": "python3"
  },
  "language_info": {
   "codemirror_mode": {
    "name": "ipython",
    "version": 3
   },
   "file_extension": ".py",
   "mimetype": "text/x-python",
   "name": "python",
   "nbconvert_exporter": "python",
   "pygments_lexer": "ipython3",
   "version": "3.6.6"
  }
 },
 "nbformat": 4,
 "nbformat_minor": 2
}
